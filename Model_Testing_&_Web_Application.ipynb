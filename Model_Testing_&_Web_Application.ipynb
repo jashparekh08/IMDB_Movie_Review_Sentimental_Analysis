{
 "cells": [
  {
   "cell_type": "code",
   "execution_count": 1,
   "metadata": {
    "id": "7LQaH1aYIAXd"
   },
   "outputs": [
    {
     "name": "stderr",
     "output_type": "stream",
     "text": [
      "WARNING:absl:Compiled the loaded model, but the compiled metrics have yet to be built. `model.compile_metrics` will be empty until you train or evaluate the model.\n"
     ]
    }
   ],
   "source": [
    "from keras.models import load_model\n",
    "import joblib\n",
    "from tensorflow.keras.preprocessing.sequence import pad_sequences\n",
    "\n",
    "model = load_model(\"model.h5\")\n",
    "tokenizer = joblib.load(\"tokenizer.pkl\")\n",
    "\n",
    "def predictive_system(review):\n",
    "  sequences = tokenizer.texts_to_sequences([review])\n",
    "  padded_sequence = pad_sequences(sequences, maxlen=200)\n",
    "  prediction = model.predict(padded_sequence)\n",
    "  sentiment = \"positive\" if prediction[0][0] > 0.5 else \"negative\"\n",
    "  return sentiment"
   ]
  },
  {
   "cell_type": "code",
   "execution_count": 2,
   "metadata": {
    "colab": {
     "base_uri": "https://localhost:8080/"
    },
    "id": "gTx3x65zJU5c",
    "outputId": "68677515-4644-4d4e-c818-7527ab8948a1"
   },
   "outputs": [
    {
     "name": "stdout",
     "output_type": "stream",
     "text": [
      "\u001b[1m1/1\u001b[0m \u001b[32m━━━━━━━━━━━━━━━━━━━━\u001b[0m\u001b[37m\u001b[0m \u001b[1m1s\u001b[0m 956ms/step\n"
     ]
    }
   ],
   "source": [
    "review_sentiment = predictive_system(\"Beautiful cinematorgraphy and nice movie\")"
   ]
  },
  {
   "cell_type": "code",
   "execution_count": 3,
   "metadata": {
    "colab": {
     "base_uri": "https://localhost:8080/",
     "height": 36
    },
    "id": "ssasKmbQJjVR",
    "outputId": "fc85d0ae-4768-4941-c8c9-b1ab3aaa250c"
   },
   "outputs": [
    {
     "data": {
      "text/plain": [
       "'positive'"
      ]
     },
     "execution_count": 3,
     "metadata": {},
     "output_type": "execute_result"
    }
   ],
   "source": [
    "review_sentiment"
   ]
  },
  {
   "cell_type": "code",
   "execution_count": 39,
   "metadata": {
    "colab": {
     "base_uri": "https://localhost:8080/"
    },
    "id": "4th8ChCdJkjv",
    "outputId": "84334bc7-1e88-45f7-f8d5-dc9c8eaa56a8"
   },
   "outputs": [
    {
     "name": "stdout",
     "output_type": "stream",
     "text": [
      "Requirement already satisfied: gradio==3.50.2 in c:\\users\\jashp\\anaconda3\\lib\\site-packages (3.50.2)\n",
      "Requirement already satisfied: aiofiles<24.0,>=22.0 in c:\\users\\jashp\\anaconda3\\lib\\site-packages (from gradio==3.50.2) (23.2.1)\n",
      "Requirement already satisfied: altair<6.0,>=4.2.0 in c:\\users\\jashp\\anaconda3\\lib\\site-packages (from gradio==3.50.2) (5.0.1)\n",
      "Requirement already satisfied: fastapi in c:\\users\\jashp\\anaconda3\\lib\\site-packages (from gradio==3.50.2) (0.115.6)\n",
      "Requirement already satisfied: ffmpy in c:\\users\\jashp\\anaconda3\\lib\\site-packages (from gradio==3.50.2) (0.5.0)\n",
      "Requirement already satisfied: gradio-client==0.6.1 in c:\\users\\jashp\\anaconda3\\lib\\site-packages (from gradio==3.50.2) (0.6.1)\n",
      "Requirement already satisfied: httpx in c:\\users\\jashp\\anaconda3\\lib\\site-packages (from gradio==3.50.2) (0.26.0)\n",
      "Requirement already satisfied: huggingface-hub>=0.14.0 in c:\\users\\jashp\\anaconda3\\lib\\site-packages (from gradio==3.50.2) (0.28.1)\n",
      "Requirement already satisfied: importlib-resources<7.0,>=1.3 in c:\\users\\jashp\\anaconda3\\lib\\site-packages (from gradio==3.50.2) (6.5.2)\n",
      "Requirement already satisfied: jinja2<4.0 in c:\\users\\jashp\\anaconda3\\lib\\site-packages (from gradio==3.50.2) (3.1.4)\n",
      "Requirement already satisfied: markupsafe~=2.0 in c:\\users\\jashp\\anaconda3\\lib\\site-packages (from gradio==3.50.2) (2.1.3)\n",
      "Requirement already satisfied: matplotlib~=3.0 in c:\\users\\jashp\\anaconda3\\lib\\site-packages (from gradio==3.50.2) (3.8.4)\n",
      "Requirement already satisfied: numpy~=1.0 in c:\\users\\jashp\\anaconda3\\lib\\site-packages (from gradio==3.50.2) (1.26.4)\n",
      "Requirement already satisfied: orjson~=3.0 in c:\\users\\jashp\\anaconda3\\lib\\site-packages (from gradio==3.50.2) (3.10.14)\n",
      "Requirement already satisfied: packaging in c:\\users\\jashp\\anaconda3\\lib\\site-packages (from gradio==3.50.2) (23.2)\n",
      "Requirement already satisfied: pandas<3.0,>=1.0 in c:\\users\\jashp\\anaconda3\\lib\\site-packages (from gradio==3.50.2) (2.2.2)\n",
      "Requirement already satisfied: pillow<11.0,>=8.0 in c:\\users\\jashp\\anaconda3\\lib\\site-packages (from gradio==3.50.2) (10.3.0)\n",
      "Requirement already satisfied: pydantic!=1.8,!=1.8.1,!=2.0.0,!=2.0.1,<3.0.0,>=1.7.4 in c:\\users\\jashp\\anaconda3\\lib\\site-packages (from gradio==3.50.2) (2.5.3)\n",
      "Requirement already satisfied: pydub in c:\\users\\jashp\\anaconda3\\lib\\site-packages (from gradio==3.50.2) (0.25.1)\n",
      "Requirement already satisfied: python-multipart in c:\\users\\jashp\\anaconda3\\lib\\site-packages (from gradio==3.50.2) (0.0.20)\n",
      "Requirement already satisfied: pyyaml<7.0,>=5.0 in c:\\users\\jashp\\anaconda3\\lib\\site-packages (from gradio==3.50.2) (6.0.1)\n",
      "Requirement already satisfied: requests~=2.0 in c:\\users\\jashp\\anaconda3\\lib\\site-packages (from gradio==3.50.2) (2.32.2)\n",
      "Requirement already satisfied: semantic-version~=2.0 in c:\\users\\jashp\\anaconda3\\lib\\site-packages (from gradio==3.50.2) (2.10.0)\n",
      "Requirement already satisfied: typing-extensions~=4.0 in c:\\users\\jashp\\anaconda3\\lib\\site-packages (from gradio==3.50.2) (4.11.0)\n",
      "Requirement already satisfied: uvicorn>=0.14.0 in c:\\users\\jashp\\anaconda3\\lib\\site-packages (from gradio==3.50.2) (0.34.0)\n",
      "Requirement already satisfied: websockets<12.0,>=10.0 in c:\\users\\jashp\\anaconda3\\lib\\site-packages (from gradio==3.50.2) (11.0.3)\n",
      "Requirement already satisfied: fsspec in c:\\users\\jashp\\anaconda3\\lib\\site-packages (from gradio-client==0.6.1->gradio==3.50.2) (2024.3.1)\n",
      "Requirement already satisfied: jsonschema>=3.0 in c:\\users\\jashp\\anaconda3\\lib\\site-packages (from altair<6.0,>=4.2.0->gradio==3.50.2) (4.19.2)\n",
      "Requirement already satisfied: toolz in c:\\users\\jashp\\anaconda3\\lib\\site-packages (from altair<6.0,>=4.2.0->gradio==3.50.2) (0.12.0)\n",
      "Requirement already satisfied: filelock in c:\\users\\jashp\\anaconda3\\lib\\site-packages (from huggingface-hub>=0.14.0->gradio==3.50.2) (3.13.1)\n",
      "Requirement already satisfied: tqdm>=4.42.1 in c:\\users\\jashp\\anaconda3\\lib\\site-packages (from huggingface-hub>=0.14.0->gradio==3.50.2) (4.66.4)\n",
      "Requirement already satisfied: contourpy>=1.0.1 in c:\\users\\jashp\\anaconda3\\lib\\site-packages (from matplotlib~=3.0->gradio==3.50.2) (1.2.0)\n",
      "Requirement already satisfied: cycler>=0.10 in c:\\users\\jashp\\anaconda3\\lib\\site-packages (from matplotlib~=3.0->gradio==3.50.2) (0.11.0)\n",
      "Requirement already satisfied: fonttools>=4.22.0 in c:\\users\\jashp\\anaconda3\\lib\\site-packages (from matplotlib~=3.0->gradio==3.50.2) (4.51.0)\n",
      "Requirement already satisfied: kiwisolver>=1.3.1 in c:\\users\\jashp\\anaconda3\\lib\\site-packages (from matplotlib~=3.0->gradio==3.50.2) (1.4.4)\n",
      "Requirement already satisfied: pyparsing>=2.3.1 in c:\\users\\jashp\\anaconda3\\lib\\site-packages (from matplotlib~=3.0->gradio==3.50.2) (3.0.9)\n",
      "Requirement already satisfied: python-dateutil>=2.7 in c:\\users\\jashp\\anaconda3\\lib\\site-packages (from matplotlib~=3.0->gradio==3.50.2) (2.9.0.post0)\n",
      "Requirement already satisfied: pytz>=2020.1 in c:\\users\\jashp\\anaconda3\\lib\\site-packages (from pandas<3.0,>=1.0->gradio==3.50.2) (2024.1)\n",
      "Requirement already satisfied: tzdata>=2022.7 in c:\\users\\jashp\\anaconda3\\lib\\site-packages (from pandas<3.0,>=1.0->gradio==3.50.2) (2023.3)\n",
      "Requirement already satisfied: annotated-types>=0.4.0 in c:\\users\\jashp\\anaconda3\\lib\\site-packages (from pydantic!=1.8,!=1.8.1,!=2.0.0,!=2.0.1,<3.0.0,>=1.7.4->gradio==3.50.2) (0.6.0)\n",
      "Requirement already satisfied: pydantic-core==2.14.6 in c:\\users\\jashp\\anaconda3\\lib\\site-packages (from pydantic!=1.8,!=1.8.1,!=2.0.0,!=2.0.1,<3.0.0,>=1.7.4->gradio==3.50.2) (2.14.6)\n",
      "Requirement already satisfied: charset-normalizer<4,>=2 in c:\\users\\jashp\\anaconda3\\lib\\site-packages (from requests~=2.0->gradio==3.50.2) (2.0.4)\n",
      "Requirement already satisfied: idna<4,>=2.5 in c:\\users\\jashp\\anaconda3\\lib\\site-packages (from requests~=2.0->gradio==3.50.2) (3.7)\n",
      "Requirement already satisfied: urllib3<3,>=1.21.1 in c:\\users\\jashp\\anaconda3\\lib\\site-packages (from requests~=2.0->gradio==3.50.2) (2.2.2)\n",
      "Requirement already satisfied: certifi>=2017.4.17 in c:\\users\\jashp\\anaconda3\\lib\\site-packages (from requests~=2.0->gradio==3.50.2) (2024.7.4)\n",
      "Requirement already satisfied: click>=7.0 in c:\\users\\jashp\\anaconda3\\lib\\site-packages (from uvicorn>=0.14.0->gradio==3.50.2) (8.1.7)\n",
      "Requirement already satisfied: h11>=0.8 in c:\\users\\jashp\\anaconda3\\lib\\site-packages (from uvicorn>=0.14.0->gradio==3.50.2) (0.14.0)\n",
      "Requirement already satisfied: starlette<0.42.0,>=0.40.0 in c:\\users\\jashp\\anaconda3\\lib\\site-packages (from fastapi->gradio==3.50.2) (0.41.3)\n",
      "Requirement already satisfied: anyio in c:\\users\\jashp\\anaconda3\\lib\\site-packages (from httpx->gradio==3.50.2) (4.2.0)\n",
      "Requirement already satisfied: httpcore==1.* in c:\\users\\jashp\\anaconda3\\lib\\site-packages (from httpx->gradio==3.50.2) (1.0.2)\n",
      "Requirement already satisfied: sniffio in c:\\users\\jashp\\anaconda3\\lib\\site-packages (from httpx->gradio==3.50.2) (1.3.0)\n",
      "Requirement already satisfied: colorama in c:\\users\\jashp\\anaconda3\\lib\\site-packages (from click>=7.0->uvicorn>=0.14.0->gradio==3.50.2) (0.4.6)\n",
      "Requirement already satisfied: attrs>=22.2.0 in c:\\users\\jashp\\anaconda3\\lib\\site-packages (from jsonschema>=3.0->altair<6.0,>=4.2.0->gradio==3.50.2) (23.1.0)\n",
      "Requirement already satisfied: jsonschema-specifications>=2023.03.6 in c:\\users\\jashp\\anaconda3\\lib\\site-packages (from jsonschema>=3.0->altair<6.0,>=4.2.0->gradio==3.50.2) (2023.7.1)\n",
      "Requirement already satisfied: referencing>=0.28.4 in c:\\users\\jashp\\anaconda3\\lib\\site-packages (from jsonschema>=3.0->altair<6.0,>=4.2.0->gradio==3.50.2) (0.30.2)\n",
      "Requirement already satisfied: rpds-py>=0.7.1 in c:\\users\\jashp\\anaconda3\\lib\\site-packages (from jsonschema>=3.0->altair<6.0,>=4.2.0->gradio==3.50.2) (0.10.6)\n",
      "Requirement already satisfied: six>=1.5 in c:\\users\\jashp\\anaconda3\\lib\\site-packages (from python-dateutil>=2.7->matplotlib~=3.0->gradio==3.50.2) (1.16.0)\n"
     ]
    }
   ],
   "source": [
    "!pip install gradio==3.50.2  "
   ]
  },
  {
   "cell_type": "code",
   "execution_count": 33,
   "metadata": {},
   "outputs": [
    {
     "name": "stdout",
     "output_type": "stream",
     "text": [
      "Requirement already satisfied: pip in c:\\users\\jashp\\anaconda3\\lib\\site-packages (24.0)\n",
      "Collecting pip\n",
      "  Downloading pip-25.0.1-py3-none-any.whl.metadata (3.7 kB)\n",
      "Requirement already satisfied: setuptools in c:\\users\\jashp\\anaconda3\\lib\\site-packages (69.5.1)\n",
      "Collecting setuptools\n",
      "  Downloading setuptools-75.8.0-py3-none-any.whl.metadata (6.7 kB)\n",
      "Requirement already satisfied: wheel in c:\\users\\jashp\\anaconda3\\lib\\site-packages (0.43.0)\n",
      "Collecting wheel\n",
      "  Downloading wheel-0.45.1-py3-none-any.whl.metadata (2.3 kB)\n",
      "Downloading pip-25.0.1-py3-none-any.whl (1.8 MB)\n",
      "   ---------------------------------------- 0.0/1.8 MB ? eta -:--:--\n",
      "    --------------------------------------- 0.0/1.8 MB 991.0 kB/s eta 0:00:02\n",
      "   -- ------------------------------------- 0.1/1.8 MB 1.8 MB/s eta 0:00:01\n",
      "   ------- -------------------------------- 0.3/1.8 MB 2.6 MB/s eta 0:00:01\n",
      "   ----------- ---------------------------- 0.5/1.8 MB 3.0 MB/s eta 0:00:01\n",
      "   --------------- ------------------------ 0.7/1.8 MB 3.2 MB/s eta 0:00:01\n",
      "   ----------------- ---------------------- 0.8/1.8 MB 3.4 MB/s eta 0:00:01\n",
      "   ---------------------- ----------------- 1.0/1.8 MB 3.5 MB/s eta 0:00:01\n",
      "   ---------------------------- ----------- 1.3/1.8 MB 3.6 MB/s eta 0:00:01\n",
      "   -------------------------------- ------- 1.5/1.8 MB 3.6 MB/s eta 0:00:01\n",
      "   ---------------------------------- ----- 1.6/1.8 MB 3.5 MB/s eta 0:00:01\n",
      "   ---------------------------------------  1.8/1.8 MB 3.8 MB/s eta 0:00:01\n",
      "   ---------------------------------------- 1.8/1.8 MB 3.4 MB/s eta 0:00:00\n",
      "Downloading setuptools-75.8.0-py3-none-any.whl (1.2 MB)\n",
      "   ---------------------------------------- 0.0/1.2 MB ? eta -:--:--\n",
      "   ----- ---------------------------------- 0.2/1.2 MB 4.6 MB/s eta 0:00:01\n",
      "   ----------- ---------------------------- 0.3/1.2 MB 4.2 MB/s eta 0:00:01\n",
      "   ------------------ --------------------- 0.6/1.2 MB 4.3 MB/s eta 0:00:01\n",
      "   ----------------------- ---------------- 0.7/1.2 MB 4.5 MB/s eta 0:00:01\n",
      "   --------------------------- ------------ 0.8/1.2 MB 4.4 MB/s eta 0:00:01\n",
      "   ------------------------------------ --- 1.1/1.2 MB 4.2 MB/s eta 0:00:01\n",
      "   ---------------------------------------  1.2/1.2 MB 4.3 MB/s eta 0:00:01\n",
      "   ---------------------------------------- 1.2/1.2 MB 3.7 MB/s eta 0:00:00\n",
      "Downloading wheel-0.45.1-py3-none-any.whl (72 kB)\n",
      "   ---------------------------------------- 0.0/72.5 kB ? eta -:--:--\n",
      "   ---------------------------------------- 72.5/72.5 kB 2.0 MB/s eta 0:00:00\n",
      "Installing collected packages: wheel, setuptools, pip\n",
      "  Attempting uninstall: wheel\n",
      "    Found existing installation: wheel 0.43.0\n",
      "    Uninstalling wheel-0.43.0:\n",
      "      Successfully uninstalled wheel-0.43.0\n",
      "  Attempting uninstall: setuptools\n",
      "    Found existing installation: setuptools 69.5.1\n",
      "    Uninstalling setuptools-69.5.1:\n",
      "      Successfully uninstalled setuptools-69.5.1\n",
      "  Attempting uninstall: pip\n",
      "    Found existing installation: pip 24.0\n",
      "    Uninstalling pip-24.0:\n",
      "      Successfully uninstalled pip-24.0\n",
      "Successfully installed pip-25.0.1 setuptools-75.8.0 wheel-0.45.1\n",
      "Note: you may need to restart the kernel to use updated packages.\n"
     ]
    }
   ],
   "source": [
    "pip install --upgrade pip setuptools wheel"
   ]
  },
  {
   "cell_type": "code",
   "execution_count": 35,
   "metadata": {},
   "outputs": [
    {
     "name": "stdout",
     "output_type": "stream",
     "text": [
      "Requirement already satisfied: gradio in c:\\users\\jashp\\anaconda3\\lib\\site-packages (3.50.2)\n",
      "Requirement already satisfied: numpy in c:\\users\\jashp\\anaconda3\\lib\\site-packages (1.26.4)\n",
      "Requirement already satisfied: pandas in c:\\users\\jashp\\anaconda3\\lib\\site-packages (2.2.2)\n",
      "Requirement already satisfied: tensorflow in c:\\users\\jashp\\anaconda3\\lib\\site-packages (2.18.0)\n",
      "Requirement already satisfied: aiofiles<24.0,>=22.0 in c:\\users\\jashp\\anaconda3\\lib\\site-packages (from gradio) (23.2.1)\n",
      "Requirement already satisfied: altair<6.0,>=4.2.0 in c:\\users\\jashp\\anaconda3\\lib\\site-packages (from gradio) (5.0.1)\n",
      "Requirement already satisfied: fastapi in c:\\users\\jashp\\anaconda3\\lib\\site-packages (from gradio) (0.115.6)\n",
      "Requirement already satisfied: ffmpy in c:\\users\\jashp\\anaconda3\\lib\\site-packages (from gradio) (0.5.0)\n",
      "Requirement already satisfied: gradio-client==0.6.1 in c:\\users\\jashp\\anaconda3\\lib\\site-packages (from gradio) (0.6.1)\n",
      "Requirement already satisfied: httpx in c:\\users\\jashp\\anaconda3\\lib\\site-packages (from gradio) (0.26.0)\n",
      "Requirement already satisfied: huggingface-hub>=0.14.0 in c:\\users\\jashp\\anaconda3\\lib\\site-packages (from gradio) (0.28.1)\n",
      "Requirement already satisfied: importlib-resources<7.0,>=1.3 in c:\\users\\jashp\\anaconda3\\lib\\site-packages (from gradio) (6.5.2)\n",
      "Requirement already satisfied: jinja2<4.0 in c:\\users\\jashp\\anaconda3\\lib\\site-packages (from gradio) (3.1.4)\n",
      "Requirement already satisfied: markupsafe~=2.0 in c:\\users\\jashp\\anaconda3\\lib\\site-packages (from gradio) (2.1.3)\n",
      "Requirement already satisfied: matplotlib~=3.0 in c:\\users\\jashp\\anaconda3\\lib\\site-packages (from gradio) (3.8.4)\n",
      "Requirement already satisfied: orjson~=3.0 in c:\\users\\jashp\\anaconda3\\lib\\site-packages (from gradio) (3.10.14)\n",
      "Requirement already satisfied: packaging in c:\\users\\jashp\\anaconda3\\lib\\site-packages (from gradio) (23.2)\n",
      "Requirement already satisfied: pillow<11.0,>=8.0 in c:\\users\\jashp\\anaconda3\\lib\\site-packages (from gradio) (10.3.0)\n",
      "Requirement already satisfied: pydantic!=1.8,!=1.8.1,!=2.0.0,!=2.0.1,<3.0.0,>=1.7.4 in c:\\users\\jashp\\anaconda3\\lib\\site-packages (from gradio) (2.5.3)\n",
      "Requirement already satisfied: pydub in c:\\users\\jashp\\anaconda3\\lib\\site-packages (from gradio) (0.25.1)\n",
      "Requirement already satisfied: python-multipart in c:\\users\\jashp\\anaconda3\\lib\\site-packages (from gradio) (0.0.20)\n",
      "Requirement already satisfied: pyyaml<7.0,>=5.0 in c:\\users\\jashp\\anaconda3\\lib\\site-packages (from gradio) (6.0.1)\n",
      "Requirement already satisfied: requests~=2.0 in c:\\users\\jashp\\anaconda3\\lib\\site-packages (from gradio) (2.32.2)\n",
      "Requirement already satisfied: semantic-version~=2.0 in c:\\users\\jashp\\anaconda3\\lib\\site-packages (from gradio) (2.10.0)\n",
      "Requirement already satisfied: typing-extensions~=4.0 in c:\\users\\jashp\\anaconda3\\lib\\site-packages (from gradio) (4.11.0)\n",
      "Requirement already satisfied: uvicorn>=0.14.0 in c:\\users\\jashp\\anaconda3\\lib\\site-packages (from gradio) (0.34.0)\n",
      "Requirement already satisfied: websockets<12.0,>=10.0 in c:\\users\\jashp\\anaconda3\\lib\\site-packages (from gradio) (11.0.3)\n",
      "Requirement already satisfied: fsspec in c:\\users\\jashp\\anaconda3\\lib\\site-packages (from gradio-client==0.6.1->gradio) (2024.3.1)\n",
      "Requirement already satisfied: python-dateutil>=2.8.2 in c:\\users\\jashp\\anaconda3\\lib\\site-packages (from pandas) (2.9.0.post0)\n",
      "Requirement already satisfied: pytz>=2020.1 in c:\\users\\jashp\\anaconda3\\lib\\site-packages (from pandas) (2024.1)\n",
      "Requirement already satisfied: tzdata>=2022.7 in c:\\users\\jashp\\anaconda3\\lib\\site-packages (from pandas) (2023.3)\n",
      "Requirement already satisfied: tensorflow-intel==2.18.0 in c:\\users\\jashp\\anaconda3\\lib\\site-packages (from tensorflow) (2.18.0)\n",
      "Requirement already satisfied: absl-py>=1.0.0 in c:\\users\\jashp\\anaconda3\\lib\\site-packages (from tensorflow-intel==2.18.0->tensorflow) (2.1.0)\n",
      "Requirement already satisfied: astunparse>=1.6.0 in c:\\users\\jashp\\anaconda3\\lib\\site-packages (from tensorflow-intel==2.18.0->tensorflow) (1.6.3)\n",
      "Requirement already satisfied: flatbuffers>=24.3.25 in c:\\users\\jashp\\anaconda3\\lib\\site-packages (from tensorflow-intel==2.18.0->tensorflow) (24.3.25)\n",
      "Requirement already satisfied: gast!=0.5.0,!=0.5.1,!=0.5.2,>=0.2.1 in c:\\users\\jashp\\anaconda3\\lib\\site-packages (from tensorflow-intel==2.18.0->tensorflow) (0.6.0)\n",
      "Requirement already satisfied: google-pasta>=0.1.1 in c:\\users\\jashp\\anaconda3\\lib\\site-packages (from tensorflow-intel==2.18.0->tensorflow) (0.2.0)\n",
      "Requirement already satisfied: libclang>=13.0.0 in c:\\users\\jashp\\anaconda3\\lib\\site-packages (from tensorflow-intel==2.18.0->tensorflow) (18.1.1)\n",
      "Requirement already satisfied: opt-einsum>=2.3.2 in c:\\users\\jashp\\anaconda3\\lib\\site-packages (from tensorflow-intel==2.18.0->tensorflow) (3.4.0)\n",
      "Requirement already satisfied: protobuf!=4.21.0,!=4.21.1,!=4.21.2,!=4.21.3,!=4.21.4,!=4.21.5,<6.0.0dev,>=3.20.3 in c:\\users\\jashp\\anaconda3\\lib\\site-packages (from tensorflow-intel==2.18.0->tensorflow) (3.20.3)\n",
      "Requirement already satisfied: setuptools in c:\\users\\jashp\\anaconda3\\lib\\site-packages (from tensorflow-intel==2.18.0->tensorflow) (75.8.0)\n",
      "Requirement already satisfied: six>=1.12.0 in c:\\users\\jashp\\anaconda3\\lib\\site-packages (from tensorflow-intel==2.18.0->tensorflow) (1.16.0)\n",
      "Requirement already satisfied: termcolor>=1.1.0 in c:\\users\\jashp\\anaconda3\\lib\\site-packages (from tensorflow-intel==2.18.0->tensorflow) (2.5.0)\n",
      "Requirement already satisfied: wrapt>=1.11.0 in c:\\users\\jashp\\anaconda3\\lib\\site-packages (from tensorflow-intel==2.18.0->tensorflow) (1.14.1)\n",
      "Requirement already satisfied: grpcio<2.0,>=1.24.3 in c:\\users\\jashp\\anaconda3\\lib\\site-packages (from tensorflow-intel==2.18.0->tensorflow) (1.68.1)\n",
      "Requirement already satisfied: tensorboard<2.19,>=2.18 in c:\\users\\jashp\\anaconda3\\lib\\site-packages (from tensorflow-intel==2.18.0->tensorflow) (2.18.0)\n",
      "Requirement already satisfied: keras>=3.5.0 in c:\\users\\jashp\\anaconda3\\lib\\site-packages (from tensorflow-intel==2.18.0->tensorflow) (3.7.0)\n",
      "Requirement already satisfied: h5py>=3.11.0 in c:\\users\\jashp\\anaconda3\\lib\\site-packages (from tensorflow-intel==2.18.0->tensorflow) (3.11.0)\n",
      "Requirement already satisfied: ml-dtypes<0.5.0,>=0.4.0 in c:\\users\\jashp\\anaconda3\\lib\\site-packages (from tensorflow-intel==2.18.0->tensorflow) (0.4.1)\n",
      "Requirement already satisfied: jsonschema>=3.0 in c:\\users\\jashp\\anaconda3\\lib\\site-packages (from altair<6.0,>=4.2.0->gradio) (4.19.2)\n",
      "Requirement already satisfied: toolz in c:\\users\\jashp\\anaconda3\\lib\\site-packages (from altair<6.0,>=4.2.0->gradio) (0.12.0)\n",
      "Requirement already satisfied: filelock in c:\\users\\jashp\\anaconda3\\lib\\site-packages (from huggingface-hub>=0.14.0->gradio) (3.13.1)\n",
      "Requirement already satisfied: tqdm>=4.42.1 in c:\\users\\jashp\\anaconda3\\lib\\site-packages (from huggingface-hub>=0.14.0->gradio) (4.66.4)\n",
      "Requirement already satisfied: contourpy>=1.0.1 in c:\\users\\jashp\\anaconda3\\lib\\site-packages (from matplotlib~=3.0->gradio) (1.2.0)\n",
      "Requirement already satisfied: cycler>=0.10 in c:\\users\\jashp\\anaconda3\\lib\\site-packages (from matplotlib~=3.0->gradio) (0.11.0)\n",
      "Requirement already satisfied: fonttools>=4.22.0 in c:\\users\\jashp\\anaconda3\\lib\\site-packages (from matplotlib~=3.0->gradio) (4.51.0)\n",
      "Requirement already satisfied: kiwisolver>=1.3.1 in c:\\users\\jashp\\anaconda3\\lib\\site-packages (from matplotlib~=3.0->gradio) (1.4.4)\n",
      "Requirement already satisfied: pyparsing>=2.3.1 in c:\\users\\jashp\\anaconda3\\lib\\site-packages (from matplotlib~=3.0->gradio) (3.0.9)\n",
      "Requirement already satisfied: annotated-types>=0.4.0 in c:\\users\\jashp\\anaconda3\\lib\\site-packages (from pydantic!=1.8,!=1.8.1,!=2.0.0,!=2.0.1,<3.0.0,>=1.7.4->gradio) (0.6.0)\n",
      "Requirement already satisfied: pydantic-core==2.14.6 in c:\\users\\jashp\\anaconda3\\lib\\site-packages (from pydantic!=1.8,!=1.8.1,!=2.0.0,!=2.0.1,<3.0.0,>=1.7.4->gradio) (2.14.6)\n",
      "Requirement already satisfied: charset-normalizer<4,>=2 in c:\\users\\jashp\\anaconda3\\lib\\site-packages (from requests~=2.0->gradio) (2.0.4)\n",
      "Requirement already satisfied: idna<4,>=2.5 in c:\\users\\jashp\\anaconda3\\lib\\site-packages (from requests~=2.0->gradio) (3.7)\n",
      "Requirement already satisfied: urllib3<3,>=1.21.1 in c:\\users\\jashp\\anaconda3\\lib\\site-packages (from requests~=2.0->gradio) (2.2.2)\n",
      "Requirement already satisfied: certifi>=2017.4.17 in c:\\users\\jashp\\anaconda3\\lib\\site-packages (from requests~=2.0->gradio) (2024.7.4)\n",
      "Requirement already satisfied: click>=7.0 in c:\\users\\jashp\\anaconda3\\lib\\site-packages (from uvicorn>=0.14.0->gradio) (8.1.7)\n",
      "Requirement already satisfied: h11>=0.8 in c:\\users\\jashp\\anaconda3\\lib\\site-packages (from uvicorn>=0.14.0->gradio) (0.14.0)\n",
      "Requirement already satisfied: starlette<0.42.0,>=0.40.0 in c:\\users\\jashp\\anaconda3\\lib\\site-packages (from fastapi->gradio) (0.41.3)\n",
      "Requirement already satisfied: anyio in c:\\users\\jashp\\anaconda3\\lib\\site-packages (from httpx->gradio) (4.2.0)\n",
      "Requirement already satisfied: httpcore==1.* in c:\\users\\jashp\\anaconda3\\lib\\site-packages (from httpx->gradio) (1.0.2)\n",
      "Requirement already satisfied: sniffio in c:\\users\\jashp\\anaconda3\\lib\\site-packages (from httpx->gradio) (1.3.0)\n",
      "Requirement already satisfied: wheel<1.0,>=0.23.0 in c:\\users\\jashp\\anaconda3\\lib\\site-packages (from astunparse>=1.6.0->tensorflow-intel==2.18.0->tensorflow) (0.45.1)\n",
      "Requirement already satisfied: colorama in c:\\users\\jashp\\anaconda3\\lib\\site-packages (from click>=7.0->uvicorn>=0.14.0->gradio) (0.4.6)\n",
      "Requirement already satisfied: attrs>=22.2.0 in c:\\users\\jashp\\anaconda3\\lib\\site-packages (from jsonschema>=3.0->altair<6.0,>=4.2.0->gradio) (23.1.0)\n",
      "Requirement already satisfied: jsonschema-specifications>=2023.03.6 in c:\\users\\jashp\\anaconda3\\lib\\site-packages (from jsonschema>=3.0->altair<6.0,>=4.2.0->gradio) (2023.7.1)\n",
      "Requirement already satisfied: referencing>=0.28.4 in c:\\users\\jashp\\anaconda3\\lib\\site-packages (from jsonschema>=3.0->altair<6.0,>=4.2.0->gradio) (0.30.2)\n",
      "Requirement already satisfied: rpds-py>=0.7.1 in c:\\users\\jashp\\anaconda3\\lib\\site-packages (from jsonschema>=3.0->altair<6.0,>=4.2.0->gradio) (0.10.6)\n",
      "Requirement already satisfied: rich in c:\\users\\jashp\\anaconda3\\lib\\site-packages (from keras>=3.5.0->tensorflow-intel==2.18.0->tensorflow) (13.3.5)\n",
      "Requirement already satisfied: namex in c:\\users\\jashp\\anaconda3\\lib\\site-packages (from keras>=3.5.0->tensorflow-intel==2.18.0->tensorflow) (0.0.8)\n",
      "Requirement already satisfied: optree in c:\\users\\jashp\\anaconda3\\lib\\site-packages (from keras>=3.5.0->tensorflow-intel==2.18.0->tensorflow) (0.13.1)\n",
      "Requirement already satisfied: markdown>=2.6.8 in c:\\users\\jashp\\anaconda3\\lib\\site-packages (from tensorboard<2.19,>=2.18->tensorflow-intel==2.18.0->tensorflow) (3.4.1)\n",
      "Requirement already satisfied: tensorboard-data-server<0.8.0,>=0.7.0 in c:\\users\\jashp\\anaconda3\\lib\\site-packages (from tensorboard<2.19,>=2.18->tensorflow-intel==2.18.0->tensorflow) (0.7.2)\n",
      "Requirement already satisfied: werkzeug>=1.0.1 in c:\\users\\jashp\\anaconda3\\lib\\site-packages (from tensorboard<2.19,>=2.18->tensorflow-intel==2.18.0->tensorflow) (3.0.3)\n",
      "Requirement already satisfied: markdown-it-py<3.0.0,>=2.2.0 in c:\\users\\jashp\\anaconda3\\lib\\site-packages (from rich->keras>=3.5.0->tensorflow-intel==2.18.0->tensorflow) (2.2.0)\n",
      "Requirement already satisfied: pygments<3.0.0,>=2.13.0 in c:\\users\\jashp\\anaconda3\\lib\\site-packages (from rich->keras>=3.5.0->tensorflow-intel==2.18.0->tensorflow) (2.15.1)\n",
      "Requirement already satisfied: mdurl~=0.1 in c:\\users\\jashp\\anaconda3\\lib\\site-packages (from markdown-it-py<3.0.0,>=2.2.0->rich->keras>=3.5.0->tensorflow-intel==2.18.0->tensorflow) (0.1.0)\n",
      "Note: you may need to restart the kernel to use updated packages.\n"
     ]
    }
   ],
   "source": [
    "pip install gradio numpy pandas tensorflow"
   ]
  },
  {
   "cell_type": "code",
   "execution_count": 7,
   "metadata": {
    "colab": {
     "base_uri": "https://localhost:8080/",
     "height": 613
    },
    "id": "L4VtnxB6KEYx",
    "outputId": "e0b0e060-8481-4fa7-fa29-e3cc9cf42800"
   },
   "outputs": [
    {
     "name": "stdout",
     "output_type": "stream",
     "text": [
      "Running on local URL:  http://127.0.0.1:7860\n",
      "IMPORTANT: You are using gradio version 3.50.2, however version 4.44.1 is available, please upgrade.\n",
      "--------\n",
      "Running on public URL: https://918a375167a63aca1d.gradio.live\n",
      "\n",
      "This share link expires in 72 hours. For free permanent hosting and GPU upgrades, run `gradio deploy` from Terminal to deploy to Spaces (https://huggingface.co/spaces)\n"
     ]
    },
    {
     "data": {
      "text/html": [
       "<div><iframe src=\"https://918a375167a63aca1d.gradio.live\" width=\"100%\" height=\"500\" allow=\"autoplay; camera; microphone; clipboard-read; clipboard-write;\" frameborder=\"0\" allowfullscreen></iframe></div>"
      ],
      "text/plain": [
       "<IPython.core.display.HTML object>"
      ]
     },
     "metadata": {},
     "output_type": "display_data"
    },
    {
     "data": {
      "text/plain": []
     },
     "execution_count": 7,
     "metadata": {},
     "output_type": "execute_result"
    }
   ],
   "source": [
    "import gradio as gr\n",
    "title = \"MOVIE SENTIMENT ANALYSIS APPLICATION\"\n",
    "\n",
    "app = gr.Interface(fn = predictive_system, inputs=\"textbox\", outputs=\"textbox\", title=title)\n",
    "\n",
    "app.launch(share=True)\n"
   ]
  },
  {
   "cell_type": "code",
   "execution_count": null,
   "metadata": {
    "id": "77xx-qS8KjlJ"
   },
   "outputs": [],
   "source": []
  }
 ],
 "metadata": {
  "accelerator": "GPU",
  "colab": {
   "gpuType": "T4",
   "provenance": []
  },
  "kernelspec": {
   "display_name": "Python 3 (ipykernel)",
   "language": "python",
   "name": "python3"
  },
  "language_info": {
   "codemirror_mode": {
    "name": "ipython",
    "version": 3
   },
   "file_extension": ".py",
   "mimetype": "text/x-python",
   "name": "python",
   "nbconvert_exporter": "python",
   "pygments_lexer": "ipython3",
   "version": "3.12.4"
  }
 },
 "nbformat": 4,
 "nbformat_minor": 4
}
